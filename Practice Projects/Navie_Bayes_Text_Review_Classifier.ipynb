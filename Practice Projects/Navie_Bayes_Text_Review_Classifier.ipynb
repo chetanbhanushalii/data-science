{
 "cells": [
  {
   "cell_type": "markdown",
   "id": "85a07786",
   "metadata": {},
   "source": [
    "# -------------- Step 1: Import Data and Libraries --------------"
   ]
  },
  {
   "cell_type": "code",
   "execution_count": 1,
   "id": "c48bccae",
   "metadata": {},
   "outputs": [],
   "source": [
    "import re\n",
    "import nltk\n",
    "import string\n",
    "import numpy as np\n",
    "import pandas as pd\n",
    "from nltk.corpus import stopwords\n",
    "from nltk.stem import WordNetLemmatizer\n",
    "from sklearn.base import BaseEstimator, TransformerMixin"
   ]
  },
  {
   "cell_type": "code",
   "execution_count": 2,
   "id": "e070357e",
   "metadata": {},
   "outputs": [
    {
     "data": {
      "text/html": [
       "<div>\n",
       "<style scoped>\n",
       "    .dataframe tbody tr th:only-of-type {\n",
       "        vertical-align: middle;\n",
       "    }\n",
       "\n",
       "    .dataframe tbody tr th {\n",
       "        vertical-align: top;\n",
       "    }\n",
       "\n",
       "    .dataframe thead th {\n",
       "        text-align: right;\n",
       "    }\n",
       "</style>\n",
       "<table border=\"1\" class=\"dataframe\">\n",
       "  <thead>\n",
       "    <tr style=\"text-align: right;\">\n",
       "      <th></th>\n",
       "      <th>course_name</th>\n",
       "      <th>lecture_name</th>\n",
       "      <th>review_rating</th>\n",
       "      <th>review_comment</th>\n",
       "    </tr>\n",
       "  </thead>\n",
       "  <tbody>\n",
       "    <tr>\n",
       "      <th>0</th>\n",
       "      <td>A/B Testing in Python</td>\n",
       "      <td>How to set up the A/B test</td>\n",
       "      <td>5</td>\n",
       "      <td>If she could provide more details about the pr...</td>\n",
       "    </tr>\n",
       "    <tr>\n",
       "      <th>1</th>\n",
       "      <td>A/B Testing in Python</td>\n",
       "      <td>How to set up the A/B test</td>\n",
       "      <td>5</td>\n",
       "      <td>nice</td>\n",
       "    </tr>\n",
       "    <tr>\n",
       "      <th>2</th>\n",
       "      <td>A/B Testing in Python</td>\n",
       "      <td>How to set up the A/B test</td>\n",
       "      <td>5</td>\n",
       "      <td>excellent course</td>\n",
       "    </tr>\n",
       "    <tr>\n",
       "      <th>3</th>\n",
       "      <td>A/B Testing in Python</td>\n",
       "      <td>How to set up the A/B test</td>\n",
       "      <td>5</td>\n",
       "      <td>nice</td>\n",
       "    </tr>\n",
       "    <tr>\n",
       "      <th>4</th>\n",
       "      <td>A/B Testing in Python</td>\n",
       "      <td>Conclusion</td>\n",
       "      <td>5</td>\n",
       "      <td>It was an experiential learning process</td>\n",
       "    </tr>\n",
       "  </tbody>\n",
       "</table>\n",
       "</div>"
      ],
      "text/plain": [
       "             course_name                lecture_name review_rating  \\\n",
       "0  A/B Testing in Python  How to set up the A/B test             5   \n",
       "1  A/B Testing in Python  How to set up the A/B test             5   \n",
       "2  A/B Testing in Python  How to set up the A/B test             5   \n",
       "3  A/B Testing in Python  How to set up the A/B test             5   \n",
       "4  A/B Testing in Python                  Conclusion             5   \n",
       "\n",
       "                                      review_comment  \n",
       "0  If she could provide more details about the pr...  \n",
       "1                                               nice  \n",
       "2                                   excellent course  \n",
       "3                                               nice  \n",
       "4            It was an experiential learning process  "
      ]
     },
     "execution_count": 2,
     "metadata": {},
     "output_type": "execute_result"
    }
   ],
   "source": [
    "data = pd.read_csv('user_courses_review_09_2023.csv', on_bad_lines='skip')\n",
    "data.head()"
   ]
  },
  {
   "cell_type": "code",
   "execution_count": 3,
   "id": "59913dbc",
   "metadata": {
    "scrolled": true
   },
   "outputs": [],
   "source": [
    "# Show basic info and a preview\n",
    "# data.info(), data.head(), data.describe(include='all')\n"
   ]
  },
  {
   "cell_type": "code",
   "execution_count": 4,
   "id": "183463c5",
   "metadata": {},
   "outputs": [
    {
     "name": "stdout",
     "output_type": "stream",
     "text": [
      "course_name       object\n",
      "lecture_name      object\n",
      "review_rating     object\n",
      "review_comment    object\n",
      "dtype: object \n",
      "\n",
      " course_name        object\n",
      "lecture_name       object\n",
      "review_rating     float64\n",
      "review_comment     object\n",
      "dtype: object\n"
     ]
    }
   ],
   "source": [
    "# Check current data types\n",
    "dtypes_before = data.dtypes\n",
    "\n",
    "# Convert 'review_rating' to numeric (force errors to NaN)\n",
    "data['review_rating'] = pd.to_numeric(data['review_rating'], errors='coerce')\n",
    "\n",
    "# Re-check data types after conversion\n",
    "dtypes_after = data.dtypes\n",
    "\n",
    "print(dtypes_before,'\\n\\n',dtypes_after)\n"
   ]
  },
  {
   "cell_type": "code",
   "execution_count": 5,
   "id": "f2101a33",
   "metadata": {},
   "outputs": [
    {
     "name": "stdout",
     "output_type": "stream",
     "text": [
      "\n",
      "Missing Values:\n",
      " course_name         0\n",
      "lecture_name       10\n",
      "review_rating      18\n",
      "review_comment    203\n",
      "dtype: int64\n",
      "\n",
      "Duplicate Rows: 1453\n"
     ]
    }
   ],
   "source": [
    "# Check missing values\n",
    "print(\"\\nMissing Values:\\n\", data.isnull().sum())\n",
    "\n",
    "# Check for duplicate rows\n",
    "duplicates = data.duplicated().sum()\n",
    "print(f\"\\nDuplicate Rows: {duplicates}\")\n",
    "\n",
    "# Optionally drop rows with missing 'review_rating' or 'course_name'\n",
    "df_cleaned = data.dropna(subset=['review_rating', 'course_name'])"
   ]
  },
  {
   "cell_type": "code",
   "execution_count": 6,
   "id": "a3cd8b9c",
   "metadata": {
    "scrolled": true
   },
   "outputs": [
    {
     "name": "stdout",
     "output_type": "stream",
     "text": [
      "\n",
      "Duplicate Rows: 0\n",
      "Shape after removing duplicates: (9371, 4)\n"
     ]
    }
   ],
   "source": [
    "# Drop duplicate rows\n",
    "df_cleaned = df_cleaned.drop_duplicates()\n",
    "\n",
    "# Optional: reset index\n",
    "df_cleaned.reset_index(drop=True, inplace=True)\n",
    "\n",
    "duplicates = df_cleaned.duplicated().sum()\n",
    "print(f\"\\nDuplicate Rows: {duplicates}\")\n",
    "\n",
    "# Confirm result\n",
    "print(f\"Shape after removing duplicates: {df_cleaned.shape}\")\n",
    "\n",
    "\n",
    "df_cleaned.dropna(subset=['review_comment'], inplace=True)\n"
   ]
  },
  {
   "cell_type": "code",
   "execution_count": 7,
   "id": "4ae59baf",
   "metadata": {},
   "outputs": [
    {
     "data": {
      "text/html": [
       "<div>\n",
       "<style scoped>\n",
       "    .dataframe tbody tr th:only-of-type {\n",
       "        vertical-align: middle;\n",
       "    }\n",
       "\n",
       "    .dataframe tbody tr th {\n",
       "        vertical-align: top;\n",
       "    }\n",
       "\n",
       "    .dataframe thead th {\n",
       "        text-align: right;\n",
       "    }\n",
       "</style>\n",
       "<table border=\"1\" class=\"dataframe\">\n",
       "  <thead>\n",
       "    <tr style=\"text-align: right;\">\n",
       "      <th></th>\n",
       "      <th>course_name</th>\n",
       "      <th>lecture_name</th>\n",
       "      <th>review_rating</th>\n",
       "      <th>review_comment</th>\n",
       "    </tr>\n",
       "  </thead>\n",
       "  <tbody>\n",
       "    <tr>\n",
       "      <th>0</th>\n",
       "      <td>A/B Testing in Python</td>\n",
       "      <td>How to set up the A/B test</td>\n",
       "      <td>5.0</td>\n",
       "      <td>If she could provide more details about the pr...</td>\n",
       "    </tr>\n",
       "    <tr>\n",
       "      <th>1</th>\n",
       "      <td>A/B Testing in Python</td>\n",
       "      <td>How to set up the A/B test</td>\n",
       "      <td>5.0</td>\n",
       "      <td>nice</td>\n",
       "    </tr>\n",
       "    <tr>\n",
       "      <th>2</th>\n",
       "      <td>A/B Testing in Python</td>\n",
       "      <td>How to set up the A/B test</td>\n",
       "      <td>5.0</td>\n",
       "      <td>excellent course</td>\n",
       "    </tr>\n",
       "    <tr>\n",
       "      <th>3</th>\n",
       "      <td>A/B Testing in Python</td>\n",
       "      <td>Conclusion</td>\n",
       "      <td>5.0</td>\n",
       "      <td>It was an experiential learning process</td>\n",
       "    </tr>\n",
       "    <tr>\n",
       "      <th>4</th>\n",
       "      <td>A/B Testing in Python</td>\n",
       "      <td>How to set up the A/B test</td>\n",
       "      <td>5.0</td>\n",
       "      <td>great\\n</td>\n",
       "    </tr>\n",
       "    <tr>\n",
       "      <th>...</th>\n",
       "      <td>...</td>\n",
       "      <td>...</td>\n",
       "      <td>...</td>\n",
       "      <td>...</td>\n",
       "    </tr>\n",
       "    <tr>\n",
       "      <th>9366</th>\n",
       "      <td>Working with Text Files in Python</td>\n",
       "      <td>Working with Text Files - Conclusion</td>\n",
       "      <td>5.0</td>\n",
       "      <td>This course was very informative and had a lot...</td>\n",
       "    </tr>\n",
       "    <tr>\n",
       "      <th>9367</th>\n",
       "      <td>Working with Text Files in Python</td>\n",
       "      <td>Principles of Importing Data in Python</td>\n",
       "      <td>5.0</td>\n",
       "      <td>On to the point</td>\n",
       "    </tr>\n",
       "    <tr>\n",
       "      <th>9368</th>\n",
       "      <td>Working with Text Files in Python</td>\n",
       "      <td>Principles of Importing Data in Python</td>\n",
       "      <td>5.0</td>\n",
       "      <td>loving it</td>\n",
       "    </tr>\n",
       "    <tr>\n",
       "      <th>9369</th>\n",
       "      <td>Working with Text Files in Python</td>\n",
       "      <td>Principles of Importing Data in Python</td>\n",
       "      <td>5.0</td>\n",
       "      <td>Good course</td>\n",
       "    </tr>\n",
       "    <tr>\n",
       "      <th>9370</th>\n",
       "      <td>Working with Text Files in Python</td>\n",
       "      <td>Principles of Importing Data in Python</td>\n",
       "      <td>3.0</td>\n",
       "      <td>This is too fast!! If it is expected that the ...</td>\n",
       "    </tr>\n",
       "  </tbody>\n",
       "</table>\n",
       "<p>9275 rows × 4 columns</p>\n",
       "</div>"
      ],
      "text/plain": [
       "                            course_name  \\\n",
       "0                 A/B Testing in Python   \n",
       "1                 A/B Testing in Python   \n",
       "2                 A/B Testing in Python   \n",
       "3                 A/B Testing in Python   \n",
       "4                 A/B Testing in Python   \n",
       "...                                 ...   \n",
       "9366  Working with Text Files in Python   \n",
       "9367  Working with Text Files in Python   \n",
       "9368  Working with Text Files in Python   \n",
       "9369  Working with Text Files in Python   \n",
       "9370  Working with Text Files in Python   \n",
       "\n",
       "                                 lecture_name  review_rating  \\\n",
       "0                  How to set up the A/B test            5.0   \n",
       "1                  How to set up the A/B test            5.0   \n",
       "2                  How to set up the A/B test            5.0   \n",
       "3                                  Conclusion            5.0   \n",
       "4                  How to set up the A/B test            5.0   \n",
       "...                                       ...            ...   \n",
       "9366     Working with Text Files - Conclusion            5.0   \n",
       "9367  Principles of Importing Data in Python             5.0   \n",
       "9368  Principles of Importing Data in Python             5.0   \n",
       "9369  Principles of Importing Data in Python             5.0   \n",
       "9370  Principles of Importing Data in Python             3.0   \n",
       "\n",
       "                                         review_comment  \n",
       "0     If she could provide more details about the pr...  \n",
       "1                                                  nice  \n",
       "2                                      excellent course  \n",
       "3               It was an experiential learning process  \n",
       "4                                               great\\n  \n",
       "...                                                 ...  \n",
       "9366  This course was very informative and had a lot...  \n",
       "9367                                   On to the point   \n",
       "9368                                          loving it  \n",
       "9369                                        Good course  \n",
       "9370  This is too fast!! If it is expected that the ...  \n",
       "\n",
       "[9275 rows x 4 columns]"
      ]
     },
     "execution_count": 7,
     "metadata": {},
     "output_type": "execute_result"
    }
   ],
   "source": [
    "df_cleaned"
   ]
  },
  {
   "cell_type": "code",
   "execution_count": 8,
   "id": "656bb43d",
   "metadata": {},
   "outputs": [],
   "source": [
    "# Label based on TextBlob polarity (already done previously)\n",
    "from textblob import TextBlob\n",
    "df_cleaned['polarity'] = df_cleaned['review_comment'].apply(lambda x: TextBlob(x).sentiment.polarity)\n",
    "df_cleaned['label'] = df_cleaned['polarity'].apply(lambda x: 1 if x > 0 else 0)"
   ]
  },
  {
   "cell_type": "markdown",
   "id": "e141fc2a",
   "metadata": {},
   "source": [
    "# -------------- Step 2: Build Custom Preprocessor --------------"
   ]
  },
  {
   "cell_type": "code",
   "execution_count": 9,
   "id": "9ee188de",
   "metadata": {},
   "outputs": [
    {
     "name": "stderr",
     "output_type": "stream",
     "text": [
      "[nltk_data] Downloading package punkt to /Users/nehasoni/nltk_data...\n",
      "[nltk_data]   Package punkt is already up-to-date!\n",
      "[nltk_data] Downloading package stopwords to\n",
      "[nltk_data]     /Users/nehasoni/nltk_data...\n",
      "[nltk_data]   Package stopwords is already up-to-date!\n",
      "[nltk_data] Downloading package wordnet to\n",
      "[nltk_data]     /Users/nehasoni/nltk_data...\n",
      "[nltk_data]   Package wordnet is already up-to-date!\n"
     ]
    }
   ],
   "source": [
    "\n",
    "\n",
    "# Download necessary resources\n",
    "nltk.download('punkt')\n",
    "nltk.download('stopwords')\n",
    "nltk.download('wordnet')\n",
    "\n",
    "class TextPreprocessor(BaseEstimator, TransformerMixin):\n",
    "    def __init__(self):\n",
    "        self.stop_words = set(stopwords.words('english'))\n",
    "        self.lemmatizer = WordNetLemmatizer()\n",
    "\n",
    "    def clean_text(self, text):\n",
    "        text = re.sub(r\"[^a-zA-Z]\", \" \", text.lower()) # Lowercase and remove non-alphabetic characters\n",
    "        tokens = nltk.word_tokenize(text) # Tokenize\n",
    "        \n",
    "        # Remove stopwords and lemmatize\n",
    "        tokens = [self.lemmatizer.lemmatize(word) for word in tokens if word not in self.stop_words and word not in string.punctuation]\n",
    "        return ' '.join(tokens)\n",
    "\n",
    "    def fit(self, X, y=None):\n",
    "        return self\n",
    "\n",
    "    def transform(self, X):\n",
    "        return X.apply(self.clean_text)\n"
   ]
  },
  {
   "cell_type": "markdown",
   "id": "bbc10e32",
   "metadata": {},
   "source": [
    "# -------------- Step 3: Build and Train the Full Pipeline --------------"
   ]
  },
  {
   "cell_type": "code",
   "execution_count": 10,
   "id": "f886eb01",
   "metadata": {},
   "outputs": [],
   "source": [
    "from sklearn.pipeline import Pipeline\n",
    "from sklearn.feature_extraction.text import TfidfVectorizer\n",
    "from sklearn.naive_bayes import MultinomialNB\n",
    "\n",
    "# Build the full pipeline\n",
    "nb_pipeline = Pipeline([\n",
    "    ('preprocess', TextPreprocessor()),\n",
    "    ('tfidf', TfidfVectorizer(max_features=5000)),\n",
    "    ('nb', MultinomialNB())\n",
    "])\n",
    "\n",
    "# Train on cleaned_comment and label\n",
    "# nb_pipeline.fit(df_cleaned['review_comment'], df_cleaned['label'])  # Use original text here\n"
   ]
  },
  {
   "cell_type": "markdown",
   "id": "b87969c1",
   "metadata": {},
   "source": [
    "# ------ Resample for balance----------"
   ]
  },
  {
   "cell_type": "code",
   "execution_count": 13,
   "id": "3b648898",
   "metadata": {},
   "outputs": [
    {
     "data": {
      "text/plain": [
       "Pipeline(steps=[('preprocess', TextPreprocessor()),\n",
       "                ('tfidf', TfidfVectorizer(max_features=5000)),\n",
       "                ('nb', MultinomialNB())])"
      ]
     },
     "execution_count": 13,
     "metadata": {},
     "output_type": "execute_result"
    }
   ],
   "source": [
    "from imblearn.over_sampling import RandomOverSampler\n",
    "\n",
    "# Oversample raw data BEFORE vectorizing\n",
    "ros = RandomOverSampler(random_state=42)\n",
    "X_resampled, y_resampled = ros.fit_resample(df_cleaned[['review_comment']], df_cleaned['label'])\n",
    "\n",
    "# Fit the pipeline on resampled text\n",
    "nb_pipeline.fit(X_resampled['review_comment'], y_resampled)\n"
   ]
  },
  {
   "cell_type": "markdown",
   "id": "3f39de33",
   "metadata": {},
   "source": [
    "# --------- Retrain pipeline on balanced data------------"
   ]
  },
  {
   "cell_type": "code",
   "execution_count": 17,
   "id": "24869b2e",
   "metadata": {},
   "outputs": [
    {
     "name": "stdout",
     "output_type": "stream",
     "text": [
      "✅ Model training complete. Pipeline saved to 'nb_pipeline_with_cleaning.pkl'.\n"
     ]
    }
   ],
   "source": [
    "import pickle\n",
    "\n",
    "# Save pipeline\n",
    "with open(\"nb_pipeline_with_cleaning.pkl\", \"wb\") as f:\n",
    "    pickle.dump(nb_pipeline, f)\n",
    "\n",
    "print(\"✅ Model training complete. Pipeline saved to 'nb_pipeline_with_cleaning.pkl'.\")"
   ]
  },
  {
   "cell_type": "markdown",
   "id": "78fa632b",
   "metadata": {},
   "source": [
    "# --------- Predict new data------------"
   ]
  },
  {
   "cell_type": "code",
   "execution_count": 23,
   "id": "2a3b2a11",
   "metadata": {},
   "outputs": [
    {
     "name": "stdout",
     "output_type": "stream",
     "text": [
      "Predicted Label: 1 (Positive)\n",
      "Class Probabilities:\n",
      "  Class 0: 0.4105\n",
      "  Class 1: 0.5895\n"
     ]
    }
   ],
   "source": [
    "# Your input review\n",
    "new_review = \"This course was great but slow.\"\n",
    "\n",
    "# Predict label\n",
    "predicted_label = nb_pipeline.predict(pd.Series([new_review]))[0]\n",
    "\n",
    "# Predict class probabilities\n",
    "predicted_proba = nb_pipeline.predict_proba(pd.Series([new_review]))[0]\n",
    "\n",
    "# Get class names (0 = Negative, 1 = Positive in your case)\n",
    "class_names = nb_pipeline.classes_\n",
    "\n",
    "# Show results\n",
    "print(f\"Predicted Label: {predicted_label} ({'Positive' if predicted_label == 1 else 'Negative'})\")\n",
    "print(\"Class Probabilities:\")\n",
    "for cls, prob in zip(class_names, predicted_proba):\n",
    "    print(f\"  Class {cls}: {prob:.4f}\")\n"
   ]
  },
  {
   "cell_type": "code",
   "execution_count": null,
   "id": "cd79abbb",
   "metadata": {},
   "outputs": [],
   "source": []
  }
 ],
 "metadata": {
  "kernelspec": {
   "display_name": "Python 3 (ipykernel)",
   "language": "python",
   "name": "python3"
  },
  "language_info": {
   "codemirror_mode": {
    "name": "ipython",
    "version": 3
   },
   "file_extension": ".py",
   "mimetype": "text/x-python",
   "name": "python",
   "nbconvert_exporter": "python",
   "pygments_lexer": "ipython3",
   "version": "3.9.13"
  }
 },
 "nbformat": 4,
 "nbformat_minor": 5
}
