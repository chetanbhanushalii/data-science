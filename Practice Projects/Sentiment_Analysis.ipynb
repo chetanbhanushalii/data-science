{
 "cells": [
  {
   "cell_type": "code",
   "execution_count": 2,
   "id": "bdf2a0b7",
   "metadata": {},
   "outputs": [],
   "source": [
    "import numpy as np\n",
    "import pandas as pd\n",
    "import statsmodels.api as sm\n",
    "import matplotlib.pyplot as plt\n",
    "import seaborn as sns\n",
    "sns.set()"
   ]
  },
  {
   "cell_type": "code",
   "execution_count": 3,
   "id": "f7d76ef6",
   "metadata": {},
   "outputs": [
    {
     "data": {
      "text/html": [
       "<div>\n",
       "<style scoped>\n",
       "    .dataframe tbody tr th:only-of-type {\n",
       "        vertical-align: middle;\n",
       "    }\n",
       "\n",
       "    .dataframe tbody tr th {\n",
       "        vertical-align: top;\n",
       "    }\n",
       "\n",
       "    .dataframe thead th {\n",
       "        text-align: right;\n",
       "    }\n",
       "</style>\n",
       "<table border=\"1\" class=\"dataframe\">\n",
       "  <thead>\n",
       "    <tr style=\"text-align: right;\">\n",
       "      <th></th>\n",
       "      <th>course_name</th>\n",
       "      <th>lecture_name</th>\n",
       "      <th>review_rating</th>\n",
       "      <th>review_comment</th>\n",
       "    </tr>\n",
       "  </thead>\n",
       "  <tbody>\n",
       "    <tr>\n",
       "      <th>0</th>\n",
       "      <td>A/B Testing in Python</td>\n",
       "      <td>How to set up the A/B test</td>\n",
       "      <td>5</td>\n",
       "      <td>If she could provide more details about the pr...</td>\n",
       "    </tr>\n",
       "    <tr>\n",
       "      <th>1</th>\n",
       "      <td>A/B Testing in Python</td>\n",
       "      <td>How to set up the A/B test</td>\n",
       "      <td>5</td>\n",
       "      <td>nice</td>\n",
       "    </tr>\n",
       "    <tr>\n",
       "      <th>2</th>\n",
       "      <td>A/B Testing in Python</td>\n",
       "      <td>How to set up the A/B test</td>\n",
       "      <td>5</td>\n",
       "      <td>excellent course</td>\n",
       "    </tr>\n",
       "    <tr>\n",
       "      <th>3</th>\n",
       "      <td>A/B Testing in Python</td>\n",
       "      <td>How to set up the A/B test</td>\n",
       "      <td>5</td>\n",
       "      <td>nice</td>\n",
       "    </tr>\n",
       "    <tr>\n",
       "      <th>4</th>\n",
       "      <td>A/B Testing in Python</td>\n",
       "      <td>Conclusion</td>\n",
       "      <td>5</td>\n",
       "      <td>It was an experiential learning process</td>\n",
       "    </tr>\n",
       "  </tbody>\n",
       "</table>\n",
       "</div>"
      ],
      "text/plain": [
       "             course_name                lecture_name review_rating  \\\n",
       "0  A/B Testing in Python  How to set up the A/B test             5   \n",
       "1  A/B Testing in Python  How to set up the A/B test             5   \n",
       "2  A/B Testing in Python  How to set up the A/B test             5   \n",
       "3  A/B Testing in Python  How to set up the A/B test             5   \n",
       "4  A/B Testing in Python                  Conclusion             5   \n",
       "\n",
       "                                      review_comment  \n",
       "0  If she could provide more details about the pr...  \n",
       "1                                               nice  \n",
       "2                                   excellent course  \n",
       "3                                               nice  \n",
       "4            It was an experiential learning process  "
      ]
     },
     "execution_count": 3,
     "metadata": {},
     "output_type": "execute_result"
    }
   ],
   "source": [
    "data = pd.read_csv('user_courses_review_09_2023.csv', on_bad_lines='skip')\n",
    "data.head()"
   ]
  },
  {
   "cell_type": "code",
   "execution_count": 4,
   "id": "1e13c98d",
   "metadata": {
    "scrolled": true
   },
   "outputs": [
    {
     "name": "stdout",
     "output_type": "stream",
     "text": [
      "<class 'pandas.core.frame.DataFrame'>\n",
      "RangeIndex: 10842 entries, 0 to 10841\n",
      "Data columns (total 4 columns):\n",
      " #   Column          Non-Null Count  Dtype \n",
      "---  ------          --------------  ----- \n",
      " 0   course_name     10842 non-null  object\n",
      " 1   lecture_name    10832 non-null  object\n",
      " 2   review_rating   10828 non-null  object\n",
      " 3   review_comment  10639 non-null  object\n",
      "dtypes: object(4)\n",
      "memory usage: 338.9+ KB\n"
     ]
    },
    {
     "data": {
      "text/plain": [
       "(None,\n",
       "              course_name                lecture_name review_rating  \\\n",
       " 0  A/B Testing in Python  How to set up the A/B test             5   \n",
       " 1  A/B Testing in Python  How to set up the A/B test             5   \n",
       " 2  A/B Testing in Python  How to set up the A/B test             5   \n",
       " 3  A/B Testing in Python  How to set up the A/B test             5   \n",
       " 4  A/B Testing in Python                  Conclusion             5   \n",
       " \n",
       "                                       review_comment  \n",
       " 0  If she could provide more details about the pr...  \n",
       " 1                                               nice  \n",
       " 2                                   excellent course  \n",
       " 3                                               nice  \n",
       " 4            It was an experiential learning process  ,\n",
       "                                   course_name  \\\n",
       " count                                   10842   \n",
       " unique                                    119   \n",
       " top     Introduction to Data and Data Science   \n",
       " freq                                     1736   \n",
       " \n",
       "                                      lecture_name review_rating review_comment  \n",
       " count                                       10832         10828          10639  \n",
       " unique                                        234             9           7191  \n",
       " top     Why do we Need each of these Disciplines?             5      Excellent  \n",
       " freq                                         1320          9648            385  )"
      ]
     },
     "execution_count": 4,
     "metadata": {},
     "output_type": "execute_result"
    }
   ],
   "source": [
    "# Show basic info and a preview\n",
    "data.info(), data.head(), data.describe(include='all')\n"
   ]
  },
  {
   "cell_type": "code",
   "execution_count": 5,
   "id": "da34c8b5",
   "metadata": {},
   "outputs": [
    {
     "name": "stdout",
     "output_type": "stream",
     "text": [
      "course_name       object\n",
      "lecture_name      object\n",
      "review_rating     object\n",
      "review_comment    object\n",
      "dtype: object \n",
      "\n",
      " course_name        object\n",
      "lecture_name       object\n",
      "review_rating     float64\n",
      "review_comment     object\n",
      "dtype: object\n"
     ]
    }
   ],
   "source": [
    "# Check current data types\n",
    "dtypes_before = data.dtypes\n",
    "\n",
    "# Convert 'review_rating' to numeric (force errors to NaN)\n",
    "data['review_rating'] = pd.to_numeric(data['review_rating'], errors='coerce')\n",
    "\n",
    "# Re-check data types after conversion\n",
    "dtypes_after = data.dtypes\n",
    "\n",
    "print(dtypes_before,'\\n\\n',dtypes_after)\n"
   ]
  },
  {
   "cell_type": "code",
   "execution_count": 6,
   "id": "1bfb0da9",
   "metadata": {},
   "outputs": [
    {
     "name": "stdout",
     "output_type": "stream",
     "text": [
      "\n",
      "Missing Values:\n",
      " course_name         0\n",
      "lecture_name       10\n",
      "review_rating      18\n",
      "review_comment    203\n",
      "dtype: int64\n",
      "\n",
      "Duplicate Rows: 1453\n"
     ]
    }
   ],
   "source": [
    "# Check missing values\n",
    "print(\"\\nMissing Values:\\n\", data.isnull().sum())\n",
    "\n",
    "# Check for duplicate rows\n",
    "duplicates = data.duplicated().sum()\n",
    "print(f\"\\nDuplicate Rows: {duplicates}\")\n",
    "\n",
    "# Optionally drop rows with missing 'review_rating' or 'course_name'\n",
    "df_cleaned = data.dropna(subset=['review_rating', 'course_name'])"
   ]
  },
  {
   "cell_type": "code",
   "execution_count": 7,
   "id": "e02f8950",
   "metadata": {},
   "outputs": [
    {
     "name": "stdout",
     "output_type": "stream",
     "text": [
      "\n",
      "Duplicate Rows: 0\n",
      "Shape after removing duplicates: (9371, 4)\n"
     ]
    }
   ],
   "source": [
    "# Drop duplicate rows\n",
    "df_cleaned = df_cleaned.drop_duplicates()\n",
    "\n",
    "# Optional: reset index\n",
    "df_cleaned.reset_index(drop=True, inplace=True)\n",
    "\n",
    "duplicates = df_cleaned.duplicated().sum()\n",
    "print(f\"\\nDuplicate Rows: {duplicates}\")\n",
    "\n",
    "# Confirm result\n",
    "print(f\"Shape after removing duplicates: {df_cleaned.shape}\")\n",
    "\n",
    "\n"
   ]
  },
  {
   "cell_type": "markdown",
   "id": "f197cc46",
   "metadata": {},
   "source": [
    "# ---------------Exploratory Data Analysis-----------------"
   ]
  },
  {
   "cell_type": "code",
   "execution_count": 8,
   "id": "553eeb85",
   "metadata": {},
   "outputs": [
    {
     "name": "stderr",
     "output_type": "stream",
     "text": [
      "/var/folders/vx/jfvnz6_s7cd9p604bj3hzbt80000gn/T/ipykernel_71530/1631243387.py:6: FutureWarning: \n",
      "\n",
      "Passing `palette` without assigning `hue` is deprecated and will be removed in v0.14.0. Assign the `x` variable to `hue` and set `legend=False` for the same effect.\n",
      "\n",
      "  sns.countplot(x='review_rating', data=df_cleaned, palette='Blues_r')\n"
     ]
    },
    {
     "data": {
      "image/png": "[encoded data removed]",
      "text/plain": [
       "<Figure size 800x500 with 1 Axes>"
      ]
     },
     "metadata": {},
     "output_type": "display_data"
    },
    {
     "name": "stdout",
     "output_type": "stream",
     "text": [
      "\n",
      "Rating Summary:\n",
      "count    9371.000000\n",
      "mean        4.817949\n",
      "std         0.559332\n",
      "min         1.000000\n",
      "25%         5.000000\n",
      "50%         5.000000\n",
      "75%         5.000000\n",
      "max         5.000000\n",
      "Name: review_rating, dtype: float64\n",
      "\n",
      "Rating Value Counts:\n",
      "5.0    8211\n",
      "4.0     787\n",
      "3.0     249\n",
      "2.0      75\n",
      "1.0      49\n",
      "Name: review_rating, dtype: int64\n"
     ]
    }
   ],
   "source": [
    "# Set style\n",
    "sns.set(style=\"whitegrid\")\n",
    "\n",
    "# Plot rating distribution\n",
    "plt.figure(figsize=(8, 5))\n",
    "sns.countplot(x='review_rating', data=df_cleaned, palette='Blues_r')\n",
    "plt.title('Review Rating Distribution')\n",
    "plt.xlabel('Rating')\n",
    "plt.ylabel('Count')\n",
    "plt.show()\n",
    "\n",
    "# Print basic stats\n",
    "print(\"\\nRating Summary:\")\n",
    "print(df_cleaned['review_rating'].describe())\n",
    "print(\"\\nRating Value Counts:\")\n",
    "print(df_cleaned['review_rating'].value_counts())\n"
   ]
  },
  {
   "cell_type": "code",
   "execution_count": 9,
   "id": "c5f1dad2",
   "metadata": {},
   "outputs": [
    {
     "name": "stdout",
     "output_type": "stream",
     "text": [
      "\n",
      "📈 Top 10 Most Reviewed Courses:\n",
      "                              course_name  num_reviews  avg_rating\n",
      "49  Introduction to Data and Data Science         1405    4.845552\n",
      "51                  Introduction to Excel          859    4.852154\n",
      "45     Intro to ChatGPT and Generative AI          636    4.783019\n",
      "92                             Statistics          424    4.752358\n",
      "24  Data Analysis with Excel Pivot Tables          368    4.853261\n",
      "28                          Data Strategy          357    4.745098\n",
      "86                                    SQL          316    4.870253\n",
      "54                 Introduction to Python          303    4.907591\n",
      "83             Python Programmer Bootcamp          302    4.834437\n",
      "53                Introduction to Jupyter          266    4.879699\n",
      "\n",
      "⭐ Top 10 Highest Rated Courses (min 20 reviews):\n",
      "                                         course_name  num_reviews  avg_rating\n",
      "30                         Dates and Times in Python           31    5.000000\n",
      "88                            SQL + Tableau + Python           33    5.000000\n",
      "66  Machine Learning with Ridge and Lasso Regression           29    4.965517\n",
      "37                         Financial Ratio Analysis            47    4.957447\n",
      "17                                Corporate Finance            39    4.948718\n",
      "67     Machine Learning with Support Vector Machines           38    4.947368\n",
      "14             Building a 3-Statement Model in Excel           56    4.946429\n",
      "4        Accounting and Financial Statement Analysis          126    4.944444\n",
      "13          Building Business Reports Using Power BI           51    4.941176\n",
      "64         Machine Learning with K-Nearest Neighbors           49    4.938776\n"
     ]
    }
   ],
   "source": [
    "# -------------------Group by course and compute stats-------------------\n",
    "course_stats = df_cleaned.groupby('course_name')['review_rating'].agg(['count', 'mean']).reset_index()\n",
    "\n",
    "# Rename for clarity\n",
    "course_stats.columns = ['course_name', 'num_reviews', 'avg_rating']\n",
    "\n",
    "# Sort: Most reviewed\n",
    "most_reviewed = course_stats.sort_values(by='num_reviews', ascending=False).head(10)\n",
    "print(\"\\n📈 Top 10 Most Reviewed Courses:\")\n",
    "print(most_reviewed)\n",
    "\n",
    "# Sort: Highest average rating (with a minimum review count, e.g., 20)\n",
    "top_rated = course_stats[course_stats['num_reviews'] >= 20].sort_values(by='avg_rating', ascending=False).head(10)\n",
    "print(\"\\n⭐ Top 10 Highest Rated Courses (min 20 reviews):\")\n",
    "print(top_rated)\n"
   ]
  },
  {
   "cell_type": "code",
   "execution_count": 23,
   "id": "3c3284db",
   "metadata": {},
   "outputs": [
    {
     "name": "stderr",
     "output_type": "stream",
     "text": [
      "/var/folders/vx/jfvnz6_s7cd9p604bj3hzbt80000gn/T/ipykernel_71530/2957893233.py:3: FutureWarning: \n",
      "\n",
      "Passing `palette` without assigning `hue` is deprecated and will be removed in v0.14.0. Assign the `y` variable to `hue` and set `legend=False` for the same effect.\n",
      "\n",
      "  sns.barplot(x='avg_rating', y='course_name', data=top_rated, palette='Greens_d')\n"
     ]
    },
    {
     "data": {
      "image/png": "[encoded data removed]",
      "text/plain": [
       "<Figure size 1000x600 with 1 Axes>"
      ]
     },
     "metadata": {},
     "output_type": "display_data"
    }
   ],
   "source": [
    "# -------------------Visualize Top Rated Courses-------------------\n",
    "plt.figure(figsize=(10, 6))\n",
    "sns.barplot(x='avg_rating', y='course_name', data=top_rated, palette='Greens_d')\n",
    "plt.title('Top 10 Highest Rated Courses (Min 20 Reviews)')\n",
    "plt.xlabel('Average Rating')\n",
    "plt.ylabel('Course Name')\n",
    "plt.xlim(4, 5)\n",
    "plt.show()\n"
   ]
  },
  {
   "cell_type": "markdown",
   "id": "f46d3e5a",
   "metadata": {},
   "source": [
    "# ------- Clean Text Reviews by removing stop words and lemmatizing ------"
   ]
  },
  {
   "cell_type": "code",
   "execution_count": 27,
   "id": "0f0ef288",
   "metadata": {
    "scrolled": false
   },
   "outputs": [
    {
     "name": "stdout",
     "output_type": "stream",
     "text": [
      "Requirement already satisfied: nltk in /Users/nehasoni/opt/anaconda3/lib/python3.9/site-packages (3.9.1)\n",
      "Requirement already satisfied: joblib in /Users/nehasoni/opt/anaconda3/lib/python3.9/site-packages (from nltk) (1.1.0)\n",
      "Requirement already satisfied: tqdm in /Users/nehasoni/opt/anaconda3/lib/python3.9/site-packages (from nltk) (4.64.1)\n",
      "Requirement already satisfied: click in /Users/nehasoni/.local/lib/python3.9/site-packages (from nltk) (8.1.7)\n",
      "Requirement already satisfied: regex>=2021.8.3 in /Users/nehasoni/opt/anaconda3/lib/python3.9/site-packages (from nltk) (2022.7.9)\n",
      "Note: you may need to restart the kernel to use updated packages.\n"
     ]
    }
   ],
   "source": [
    "# pip install nltk"
   ]
  },
  {
   "cell_type": "code",
   "execution_count": 32,
   "id": "87029781",
   "metadata": {},
   "outputs": [
    {
     "name": "stderr",
     "output_type": "stream",
     "text": [
      "[nltk_data] Downloading package stopwords to\n",
      "[nltk_data]     /Users/nehasoni/nltk_data...\n",
      "[nltk_data]   Package stopwords is already up-to-date!\n",
      "[nltk_data] Downloading package punkt to /Users/nehasoni/nltk_data...\n",
      "[nltk_data]   Package punkt is already up-to-date!\n",
      "[nltk_data] Downloading package punkt_tab to\n",
      "[nltk_data]     /Users/nehasoni/nltk_data...\n",
      "[nltk_data]   Unzipping tokenizers/punkt_tab.zip.\n",
      "[nltk_data] Downloading package wordnet to\n",
      "[nltk_data]     /Users/nehasoni/nltk_data...\n",
      "[nltk_data]   Package wordnet is already up-to-date!\n",
      "[nltk_data] Downloading package omw-1.4 to\n",
      "[nltk_data]     /Users/nehasoni/nltk_data...\n",
      "[nltk_data]   Package omw-1.4 is already up-to-date!\n"
     ]
    },
    {
     "data": {
      "text/plain": [
       "True"
      ]
     },
     "execution_count": 32,
     "metadata": {},
     "output_type": "execute_result"
    }
   ],
   "source": [
    "import nltk\n",
    "nltk.download('stopwords')\n",
    "nltk.download('punkt')\n",
    "nltk.download('punkt_tab')\n",
    "nltk.download('wordnet')\n",
    "nltk.download('omw-1.4')\n"
   ]
  },
  {
   "cell_type": "code",
   "execution_count": 33,
   "id": "09c78157",
   "metadata": {},
   "outputs": [
    {
     "name": "stdout",
     "output_type": "stream",
     "text": [
      "                                      review_comment  \\\n",
      "0  If she could provide more details about the pr...   \n",
      "1                                               nice   \n",
      "2                                   excellent course   \n",
      "3            It was an experiential learning process   \n",
      "4                                            great\\n   \n",
      "\n",
      "                                     cleaned_comment  \n",
      "0  could provide detail process would great examp...  \n",
      "1                                               nice  \n",
      "2                                   excellent course  \n",
      "3                      experiential learning process  \n",
      "4                                              great  \n"
     ]
    }
   ],
   "source": [
    "## -------------------Clean comments using nltk-------------------\n",
    "\n",
    "import re\n",
    "from nltk.corpus import stopwords\n",
    "from nltk.stem import WordNetLemmatizer\n",
    "from nltk.tokenize import word_tokenize\n",
    "\n",
    "# Setup\n",
    "stop_words = set(stopwords.words('english'))\n",
    "lemmatizer = WordNetLemmatizer()\n",
    "\n",
    "# Define cleaning function\n",
    "def clean_and_lemmatize(text):\n",
    "    # Lowercase and remove non-alphabetic characters\n",
    "    text = re.sub(r'[^a-zA-Z\\s]', '', text.lower())\n",
    "    \n",
    "    # Tokenize\n",
    "    words = word_tokenize(text)\n",
    "    \n",
    "    # Remove stopwords and lemmatize\n",
    "    cleaned = [lemmatizer.lemmatize(word) for word in words if word not in stop_words]\n",
    "    \n",
    "    return ' '.join(cleaned)\n",
    "\n",
    "# Apply to review_comment column (dropna first)\n",
    "df_cleaned['cleaned_comment'] = df_cleaned['review_comment'].dropna().apply(clean_and_lemmatize)\n",
    "\n",
    "# Preview result\n",
    "print(df_cleaned[['review_comment', 'cleaned_comment']].head(5))\n"
   ]
  },
  {
   "cell_type": "code",
   "execution_count": 34,
   "id": "cfcad2bd",
   "metadata": {
    "collapsed": true
   },
   "outputs": [
    {
     "name": "stdout",
     "output_type": "stream",
     "text": [
      "🔠 Top 20 Most Common Words in Cleaned Comments:\n",
      "course: 2546\n",
      "good: 1521\n",
      "great: 1278\n",
      "excellent: 1163\n",
      "data: 522\n",
      "really: 512\n",
      "understand: 459\n",
      "easy: 458\n",
      "well: 448\n",
      "amazing: 420\n",
      "explanation: 412\n",
      "nice: 394\n",
      "thanks: 331\n",
      "content: 323\n",
      "clear: 315\n",
      "thank: 310\n",
      "informative: 309\n",
      "awesome: 305\n",
      "learning: 298\n",
      "like: 290\n"
     ]
    }
   ],
   "source": [
    "## -------------------word frequency calculation-------------------\n",
    "from collections import Counter\n",
    "\n",
    "# Drop missing values (if any) in cleaned comments\n",
    "cleaned_text_series = df_cleaned['cleaned_comment'].dropna()\n",
    "\n",
    "# Split all words from all comments into a list\n",
    "all_cleaned_words = ' '.join(cleaned_text_series).split()\n",
    "\n",
    "# Count word frequencies\n",
    "word_freq = Counter(all_cleaned_words)\n",
    "\n",
    "# Show top 20 most common words\n",
    "print(\"🔠 Top 20 Most Common Words in Cleaned Comments:\")\n",
    "for word, count in word_freq.most_common(20):\n",
    "    print(f\"{word}: {count}\")\n"
   ]
  },
  {
   "cell_type": "code",
   "execution_count": 35,
   "id": "309ce402",
   "metadata": {},
   "outputs": [],
   "source": [
    "# import sys\n",
    "# print(sys.executable)\n",
    "\n"
   ]
  },
  {
   "cell_type": "code",
   "execution_count": 36,
   "id": "0e47a4a7",
   "metadata": {},
   "outputs": [],
   "source": [
    "# pip install textblob"
   ]
  },
  {
   "cell_type": "code",
   "execution_count": 37,
   "id": "50a0a9f0",
   "metadata": {},
   "outputs": [],
   "source": [
    "# -----------------start of sentiment analysis-------------------\n",
    "from textblob import TextBlob"
   ]
  },
  {
   "cell_type": "code",
   "execution_count": 38,
   "id": "a296a3b0",
   "metadata": {},
   "outputs": [],
   "source": [
    "# Define function to extract polarity and subjectivity\n",
    "def analyze_sentiment(text):\n",
    "    blob = TextBlob(text)\n",
    "    return blob.sentiment.polarity, blob.sentiment.subjectivity\n",
    "\n",
    "# Drop missing cleaned comments\n",
    "non_null_comments = df_cleaned['cleaned_comment'].dropna()\n",
    "\n",
    "# Apply sentiment analysis\n",
    "sentiment_scores = non_null_comments.apply(analyze_sentiment)\n",
    "\n",
    "# Split into two new columns\n",
    "df_cleaned.loc[non_null_comments.index, 'polarity'] = sentiment_scores.apply(lambda x: x[0])\n",
    "df_cleaned.loc[non_null_comments.index, 'subjectivity'] = sentiment_scores.apply(lambda x: x[1])\n"
   ]
  },
  {
   "cell_type": "code",
   "execution_count": 40,
   "id": "7fcca3f9",
   "metadata": {
    "scrolled": true
   },
   "outputs": [
    {
     "data": {
      "text/html": [
       "<div>\n",
       "<style scoped>\n",
       "    .dataframe tbody tr th:only-of-type {\n",
       "        vertical-align: middle;\n",
       "    }\n",
       "\n",
       "    .dataframe tbody tr th {\n",
       "        vertical-align: top;\n",
       "    }\n",
       "\n",
       "    .dataframe thead th {\n",
       "        text-align: right;\n",
       "    }\n",
       "</style>\n",
       "<table border=\"1\" class=\"dataframe\">\n",
       "  <thead>\n",
       "    <tr style=\"text-align: right;\">\n",
       "      <th></th>\n",
       "      <th>course_name</th>\n",
       "      <th>lecture_name</th>\n",
       "      <th>review_rating</th>\n",
       "      <th>review_comment</th>\n",
       "      <th>cleaned_comment</th>\n",
       "      <th>polarity</th>\n",
       "      <th>subjectivity</th>\n",
       "    </tr>\n",
       "  </thead>\n",
       "  <tbody>\n",
       "    <tr>\n",
       "      <th>0</th>\n",
       "      <td>A/B Testing in Python</td>\n",
       "      <td>How to set up the A/B test</td>\n",
       "      <td>5.0</td>\n",
       "      <td>If she could provide more details about the pr...</td>\n",
       "      <td>could provide detail process would great examp...</td>\n",
       "      <td>0.044444</td>\n",
       "      <td>0.383333</td>\n",
       "    </tr>\n",
       "    <tr>\n",
       "      <th>1</th>\n",
       "      <td>A/B Testing in Python</td>\n",
       "      <td>How to set up the A/B test</td>\n",
       "      <td>5.0</td>\n",
       "      <td>nice</td>\n",
       "      <td>nice</td>\n",
       "      <td>0.600000</td>\n",
       "      <td>1.000000</td>\n",
       "    </tr>\n",
       "    <tr>\n",
       "      <th>2</th>\n",
       "      <td>A/B Testing in Python</td>\n",
       "      <td>How to set up the A/B test</td>\n",
       "      <td>5.0</td>\n",
       "      <td>excellent course</td>\n",
       "      <td>excellent course</td>\n",
       "      <td>1.000000</td>\n",
       "      <td>1.000000</td>\n",
       "    </tr>\n",
       "    <tr>\n",
       "      <th>3</th>\n",
       "      <td>A/B Testing in Python</td>\n",
       "      <td>Conclusion</td>\n",
       "      <td>5.0</td>\n",
       "      <td>It was an experiential learning process</td>\n",
       "      <td>experiential learning process</td>\n",
       "      <td>0.000000</td>\n",
       "      <td>0.000000</td>\n",
       "    </tr>\n",
       "    <tr>\n",
       "      <th>4</th>\n",
       "      <td>A/B Testing in Python</td>\n",
       "      <td>How to set up the A/B test</td>\n",
       "      <td>5.0</td>\n",
       "      <td>great\\n</td>\n",
       "      <td>great</td>\n",
       "      <td>0.800000</td>\n",
       "      <td>0.750000</td>\n",
       "    </tr>\n",
       "    <tr>\n",
       "      <th>...</th>\n",
       "      <td>...</td>\n",
       "      <td>...</td>\n",
       "      <td>...</td>\n",
       "      <td>...</td>\n",
       "      <td>...</td>\n",
       "      <td>...</td>\n",
       "      <td>...</td>\n",
       "    </tr>\n",
       "    <tr>\n",
       "      <th>9366</th>\n",
       "      <td>Working with Text Files in Python</td>\n",
       "      <td>Working with Text Files - Conclusion</td>\n",
       "      <td>5.0</td>\n",
       "      <td>This course was very informative and had a lot...</td>\n",
       "      <td>course informative lot helpful information thank</td>\n",
       "      <td>0.000000</td>\n",
       "      <td>0.000000</td>\n",
       "    </tr>\n",
       "    <tr>\n",
       "      <th>9367</th>\n",
       "      <td>Working with Text Files in Python</td>\n",
       "      <td>Principles of Importing Data in Python</td>\n",
       "      <td>5.0</td>\n",
       "      <td>On to the point</td>\n",
       "      <td>point</td>\n",
       "      <td>0.000000</td>\n",
       "      <td>0.000000</td>\n",
       "    </tr>\n",
       "    <tr>\n",
       "      <th>9368</th>\n",
       "      <td>Working with Text Files in Python</td>\n",
       "      <td>Principles of Importing Data in Python</td>\n",
       "      <td>5.0</td>\n",
       "      <td>loving it</td>\n",
       "      <td>loving</td>\n",
       "      <td>0.600000</td>\n",
       "      <td>0.950000</td>\n",
       "    </tr>\n",
       "    <tr>\n",
       "      <th>9369</th>\n",
       "      <td>Working with Text Files in Python</td>\n",
       "      <td>Principles of Importing Data in Python</td>\n",
       "      <td>5.0</td>\n",
       "      <td>Good course</td>\n",
       "      <td>good course</td>\n",
       "      <td>0.700000</td>\n",
       "      <td>0.600000</td>\n",
       "    </tr>\n",
       "    <tr>\n",
       "      <th>9370</th>\n",
       "      <td>Working with Text Files in Python</td>\n",
       "      <td>Principles of Importing Data in Python</td>\n",
       "      <td>3.0</td>\n",
       "      <td>This is too fast!! If it is expected that the ...</td>\n",
       "      <td>fast expected student background taking course...</td>\n",
       "      <td>0.050000</td>\n",
       "      <td>0.500000</td>\n",
       "    </tr>\n",
       "  </tbody>\n",
       "</table>\n",
       "<p>9371 rows × 7 columns</p>\n",
       "</div>"
      ],
      "text/plain": [
       "                            course_name  \\\n",
       "0                 A/B Testing in Python   \n",
       "1                 A/B Testing in Python   \n",
       "2                 A/B Testing in Python   \n",
       "3                 A/B Testing in Python   \n",
       "4                 A/B Testing in Python   \n",
       "...                                 ...   \n",
       "9366  Working with Text Files in Python   \n",
       "9367  Working with Text Files in Python   \n",
       "9368  Working with Text Files in Python   \n",
       "9369  Working with Text Files in Python   \n",
       "9370  Working with Text Files in Python   \n",
       "\n",
       "                                 lecture_name  review_rating  \\\n",
       "0                  How to set up the A/B test            5.0   \n",
       "1                  How to set up the A/B test            5.0   \n",
       "2                  How to set up the A/B test            5.0   \n",
       "3                                  Conclusion            5.0   \n",
       "4                  How to set up the A/B test            5.0   \n",
       "...                                       ...            ...   \n",
       "9366     Working with Text Files - Conclusion            5.0   \n",
       "9367  Principles of Importing Data in Python             5.0   \n",
       "9368  Principles of Importing Data in Python             5.0   \n",
       "9369  Principles of Importing Data in Python             5.0   \n",
       "9370  Principles of Importing Data in Python             3.0   \n",
       "\n",
       "                                         review_comment  \\\n",
       "0     If she could provide more details about the pr...   \n",
       "1                                                  nice   \n",
       "2                                      excellent course   \n",
       "3               It was an experiential learning process   \n",
       "4                                               great\\n   \n",
       "...                                                 ...   \n",
       "9366  This course was very informative and had a lot...   \n",
       "9367                                   On to the point    \n",
       "9368                                          loving it   \n",
       "9369                                        Good course   \n",
       "9370  This is too fast!! If it is expected that the ...   \n",
       "\n",
       "                                        cleaned_comment  polarity  \\\n",
       "0     could provide detail process would great examp...  0.044444   \n",
       "1                                                  nice  0.600000   \n",
       "2                                      excellent course  1.000000   \n",
       "3                         experiential learning process  0.000000   \n",
       "4                                                 great  0.800000   \n",
       "...                                                 ...       ...   \n",
       "9366   course informative lot helpful information thank  0.000000   \n",
       "9367                                              point  0.000000   \n",
       "9368                                             loving  0.600000   \n",
       "9369                                        good course  0.700000   \n",
       "9370  fast expected student background taking course...  0.050000   \n",
       "\n",
       "      subjectivity  \n",
       "0         0.383333  \n",
       "1         1.000000  \n",
       "2         1.000000  \n",
       "3         0.000000  \n",
       "4         0.750000  \n",
       "...            ...  \n",
       "9366      0.000000  \n",
       "9367      0.000000  \n",
       "9368      0.950000  \n",
       "9369      0.600000  \n",
       "9370      0.500000  \n",
       "\n",
       "[9371 rows x 7 columns]"
      ]
     },
     "execution_count": 40,
     "metadata": {},
     "output_type": "execute_result"
    }
   ],
   "source": [
    "df_cleaned"
   ]
  },
  {
   "cell_type": "code",
   "execution_count": 41,
   "id": "1aad5828",
   "metadata": {
    "scrolled": true
   },
   "outputs": [
    {
     "name": "stdout",
     "output_type": "stream",
     "text": [
      "\n",
      "📈 Sentiment Summary:\n",
      "          polarity  subjectivity\n",
      "count  9275.000000   9275.000000\n",
      "mean      0.478302      0.585500\n",
      "std       0.347108      0.330191\n",
      "min      -1.000000      0.000000\n",
      "25%       0.200000      0.383333\n",
      "50%       0.500000      0.600000\n",
      "75%       0.716667      0.861111\n",
      "max       1.000000      1.000000\n"
     ]
    },
    {
     "data": {
      "image/png": "[encoded data removed]",
      "text/plain": [
       "<Figure size 1000x500 with 1 Axes>"
      ]
     },
     "metadata": {},
     "output_type": "display_data"
    }
   ],
   "source": [
    "# Basic stats\n",
    "print(\"\\n📈 Sentiment Summary:\")\n",
    "print(df_cleaned[['polarity', 'subjectivity']].describe())\n",
    "\n",
    "# Histogram of polarity\n",
    "import matplotlib.pyplot as plt\n",
    "plt.figure(figsize=(10, 5))\n",
    "df_cleaned['polarity'].hist(bins=30, color='skyblue', edgecolor='black')\n",
    "plt.title('Sentiment Polarity Distribution')\n",
    "plt.xlabel('Polarity (-1 = Negative, +1 = Positive)')\n",
    "plt.ylabel('Number of Comments')\n",
    "plt.show()\n"
   ]
  },
  {
   "cell_type": "code",
   "execution_count": 42,
   "id": "69884593",
   "metadata": {},
   "outputs": [
    {
     "name": "stdout",
     "output_type": "stream",
     "text": [
      "😊 Top 10 Most Positively Perceived Courses:\n",
      "                                          course_name  polarity  subjectivity\n",
      "1            \\nIntroduction to Data and Data Science\"  1.000000      1.000000\n",
      "34                       Excel for Project Management  1.000000      1.000000\n",
      "71        Mastering Key Performance Indicators (KPIs)  0.741667      0.868750\n",
      "50                  Introduction to Equity Securities  0.671528      0.749802\n",
      "23             Data Analysis in Power BI with ChatGPT  0.660804      0.688512\n",
      "76                           Persuasion and Influence  0.650000      0.825000\n",
      "69                                         Management  0.643750      0.781250\n",
      "14              Building a 3-Statement Model in Excel  0.634913      0.734358\n",
      "16  Convolutional Neural Networks with TensorFlow ...  0.624854      0.672703\n",
      "70                                 Marketing Strategy  0.624242      0.622727\n",
      "\n",
      "😠 Top 10 Most Negatively Perceived Courses:\n",
      "                                          course_name  polarity  subjectivity\n",
      "85                  Python for Social Media Analytics  0.000000      0.000000\n",
      "95                The Machine Learning Algorithms A-Z  0.372099      0.392809\n",
      "93                                 Technical Analysis  0.379259      0.456784\n",
      "29                        Data-Driven Business Growth  0.393264      0.505890\n",
      "31                    Deep Learning with TensorFlow 2  0.397107      0.518239\n",
      "90  Sign-Up Flow Optimization Analysis with SQL an...  0.400000      0.300000\n",
      "0   \\nHow to Think Like a Data Scientist to Become...  0.400000      0.900000\n",
      "30                          Dates and Times in Python  0.406919      0.572971\n",
      "43   How to Think Like a Data Scientist to Become One  0.416032      0.570040\n",
      "49              Introduction to Data and Data Science  0.416946      0.565364\n"
     ]
    }
   ],
   "source": [
    "# --------Group by course and calculate mean polarity and subjectivity-------------\n",
    "course_sentiment = df_cleaned.groupby('course_name')[['polarity', 'subjectivity']].mean().reset_index()\n",
    "\n",
    "# Sort by most positive sentiment\n",
    "top_positive_courses = course_sentiment.sort_values(by='polarity', ascending=False).head(10)\n",
    "\n",
    "# Sort by most negative sentiment\n",
    "top_negative_courses = course_sentiment.sort_values(by='polarity', ascending=True).head(10)\n",
    "\n",
    "print(\"😊 Top 10 Most Positively Perceived Courses:\")\n",
    "print(top_positive_courses)\n",
    "\n",
    "print(\"\\n😠 Top 10 Most Negatively Perceived Courses:\")\n",
    "print(top_negative_courses)\n"
   ]
  },
  {
   "cell_type": "code",
   "execution_count": 43,
   "id": "f0e62cfe",
   "metadata": {},
   "outputs": [
    {
     "name": "stderr",
     "output_type": "stream",
     "text": [
      "/var/folders/vx/jfvnz6_s7cd9p604bj3hzbt80000gn/T/ipykernel_71530/1390471393.py:6: FutureWarning: \n",
      "\n",
      "Passing `palette` without assigning `hue` is deprecated and will be removed in v0.14.0. Assign the `y` variable to `hue` and set `legend=False` for the same effect.\n",
      "\n",
      "  sns.barplot(x='polarity', y='course_name', data=top_positive_courses, palette='Greens_r')\n"
     ]
    },
    {
     "data": {
      "image/png": "[encoded data removed]",
      "text/plain": [
       "<Figure size 1000x600 with 1 Axes>"
      ]
     },
     "metadata": {},
     "output_type": "display_data"
    }
   ],
   "source": [
    "import seaborn as sns\n",
    "import matplotlib.pyplot as plt\n",
    "\n",
    "# Plot top positive courses\n",
    "plt.figure(figsize=(10, 6))\n",
    "sns.barplot(x='polarity', y='course_name', data=top_positive_courses, palette='Greens_r')\n",
    "plt.title('Top 10 Courses with Highest Average Sentiment')\n",
    "plt.xlabel('Average Polarity')\n",
    "plt.ylabel('Course Name')\n",
    "plt.xlim(0, 1)\n",
    "plt.show()\n"
   ]
  },
  {
   "cell_type": "markdown",
   "id": "903a71c8",
   "metadata": {},
   "source": [
    "# -------- Create Naive Bayes Classifier----------"
   ]
  },
  {
   "cell_type": "code",
   "execution_count": 44,
   "id": "1c7a40aa",
   "metadata": {},
   "outputs": [
    {
     "name": "stdout",
     "output_type": "stream",
     "text": [
      "1    7587\n",
      "0    1784\n",
      "Name: label, dtype: int64\n"
     ]
    }
   ],
   "source": [
    "#-------------Label the Data--------------\n",
    "# Label reviews as good (1) if polarity > 0, else bad (0)\n",
    "df_cleaned['label'] = df_cleaned['polarity'].apply(lambda x: 1 if x > 0 else 0)\n",
    "\n",
    "# Check label distribution\n",
    "print(df_cleaned['label'].value_counts())\n"
   ]
  },
  {
   "cell_type": "code",
   "execution_count": 47,
   "id": "f1c03936",
   "metadata": {},
   "outputs": [
    {
     "data": {
      "text/plain": [
       "96"
      ]
     },
     "execution_count": 47,
     "metadata": {},
     "output_type": "execute_result"
    }
   ],
   "source": [
    "df_cleaned['cleaned_comment'].isna().sum()"
   ]
  },
  {
   "cell_type": "code",
   "execution_count": 49,
   "id": "b0f72808",
   "metadata": {},
   "outputs": [
    {
     "data": {
      "text/plain": [
       "0"
      ]
     },
     "execution_count": 49,
     "metadata": {},
     "output_type": "execute_result"
    }
   ],
   "source": [
    "\n",
    "from sklearn.feature_extraction.text import TfidfVectorizer\n",
    "from sklearn.model_selection import train_test_split\n",
    "\n",
    "# Drop missing cleaned comments\n",
    "df_model = df_cleaned.dropna(subset=['cleaned_comment'])\n",
    "\n",
    "df_model['cleaned_comment'].isna().sum()"
   ]
  },
  {
   "cell_type": "code",
   "execution_count": 51,
   "id": "f904e480",
   "metadata": {},
   "outputs": [],
   "source": [
    "#-------------Text Vectorization--------------\n",
    "# Features and labels\n",
    "X = df_model['cleaned_comment']\n",
    "y = df_model['label']\n",
    "\n",
    "# TF-IDF vectorization\n",
    "vectorizer = TfidfVectorizer(max_features=5000)\n",
    "X_vec = vectorizer.fit_transform(X)\n",
    "\n",
    "# Train/test split\n",
    "X_train, X_test, y_train, y_test = train_test_split(X_vec, y, test_size=0.2, random_state=42)"
   ]
  },
  {
   "cell_type": "code",
   "execution_count": 52,
   "id": "c10571d1",
   "metadata": {},
   "outputs": [],
   "source": [
    "#-------------Train the Naive Bayes Model--------------\n",
    "from sklearn.naive_bayes import MultinomialNB\n",
    "from sklearn.metrics import classification_report, confusion_matrix, accuracy_score\n",
    "\n",
    "# Train model\n",
    "nb_model = MultinomialNB()\n",
    "nb_model.fit(X_train, y_train)\n",
    "\n",
    "# Predictions\n",
    "y_pred = nb_model.predict(X_test)\n"
   ]
  },
  {
   "cell_type": "code",
   "execution_count": 53,
   "id": "6c54e600",
   "metadata": {},
   "outputs": [
    {
     "name": "stdout",
     "output_type": "stream",
     "text": [
      "Accuracy: 0.8371967654986523\n",
      "\n",
      "Classification Report:\n",
      "               precision    recall  f1-score   support\n",
      "\n",
      "           0       0.96      0.14      0.24       347\n",
      "           1       0.83      1.00      0.91      1508\n",
      "\n",
      "    accuracy                           0.84      1855\n",
      "   macro avg       0.90      0.57      0.57      1855\n",
      "weighted avg       0.86      0.84      0.78      1855\n",
      "\n",
      "\n",
      "Confusion Matrix:\n",
      " [[  47  300]\n",
      " [   2 1506]]\n"
     ]
    }
   ],
   "source": [
    "#--------------- Evaluate performance---------------\n",
    "print(\"Accuracy:\", accuracy_score(y_test, y_pred))\n",
    "print(\"\\nClassification Report:\\n\", classification_report(y_test, y_pred))\n",
    "print(\"\\nConfusion Matrix:\\n\", confusion_matrix(y_test, y_pred))\n"
   ]
  },
  {
   "cell_type": "code",
   "execution_count": 57,
   "id": "4c22c818",
   "metadata": {},
   "outputs": [],
   "source": [
    "#\n",
    "#\n",
    "# There is a class imbalace problem, this is causing bad recall score which means \n",
    "# the model does not classify '0' or 'bad reviews' \n",
    "#\n",
    "#"
   ]
  },
  {
   "cell_type": "markdown",
   "id": "af1c81f1",
   "metadata": {},
   "source": [
    "# -------- A different approch --------"
   ]
  },
  {
   "cell_type": "code",
   "execution_count": 62,
   "id": "1fb1f658",
   "metadata": {},
   "outputs": [],
   "source": [
    "# !pip install imbalanced-learn"
   ]
  },
  {
   "cell_type": "code",
   "execution_count": 63,
   "id": "4ccd5729",
   "metadata": {},
   "outputs": [
    {
     "name": "stdout",
     "output_type": "stream",
     "text": [
      "Counter({1: 7587, 0: 7587})\n"
     ]
    }
   ],
   "source": [
    "from imblearn.over_sampling import RandomOverSampler\n",
    "from sklearn.model_selection import train_test_split\n",
    "\n",
    "ros = RandomOverSampler(random_state=42)\n",
    "X_resampled, y_resampled = ros.fit_resample(X_vec, y)\n",
    "\n",
    "# Confirm balanced classes\n",
    "from collections import Counter\n",
    "print(Counter(y_resampled))\n"
   ]
  },
  {
   "cell_type": "code",
   "execution_count": 70,
   "id": "d43d71fd",
   "metadata": {},
   "outputs": [],
   "source": [
    "X_train, X_test, y_train, y_test = train_test_split(\n",
    "    X_resampled, y_resampled, test_size=0.2, random_state=42\n",
    ")"
   ]
  },
  {
   "cell_type": "code",
   "execution_count": 71,
   "id": "c7caf5c5",
   "metadata": {},
   "outputs": [],
   "source": [
    "from sklearn.naive_bayes import MultinomialNB\n",
    "from sklearn.metrics import classification_report, confusion_matrix, accuracy_score\n",
    "\n",
    "# Train model\n",
    "nb_model = MultinomialNB()\n",
    "nb_model.fit(X_train, y_train)\n",
    "\n",
    "# Predict\n",
    "y_pred = nb_model.predict(X_test)\n"
   ]
  },
  {
   "cell_type": "code",
   "execution_count": 72,
   "id": "c2e78c15",
   "metadata": {},
   "outputs": [
    {
     "name": "stdout",
     "output_type": "stream",
     "text": [
      "Accuracy: 0.9630971993410214\n",
      "\n",
      "Classification Report:\n",
      "               precision    recall  f1-score   support\n",
      "\n",
      "           0       0.96      0.97      0.96      1485\n",
      "           1       0.97      0.96      0.96      1550\n",
      "\n",
      "    accuracy                           0.96      3035\n",
      "   macro avg       0.96      0.96      0.96      3035\n",
      "weighted avg       0.96      0.96      0.96      3035\n",
      "\n",
      "\n",
      "Confusion Matrix:\n",
      " [[1437   48]\n",
      " [  64 1486]]\n"
     ]
    }
   ],
   "source": [
    "# Performance metrics\n",
    "print(\"Accuracy:\", accuracy_score(y_test, y_pred))\n",
    "print(\"\\nClassification Report:\\n\", classification_report(y_test, y_pred))\n",
    "print(\"\\nConfusion Matrix:\\n\", confusion_matrix(y_test, y_pred))\n"
   ]
  },
  {
   "cell_type": "code",
   "execution_count": 80,
   "id": "9e54bf08",
   "metadata": {},
   "outputs": [
    {
     "name": "stdout",
     "output_type": "stream",
     "text": [
      "Predicted Label: 1\n",
      "Class Probabilities: {0: 0.15631547108940205, 1: 0.8436845289105972}\n"
     ]
    }
   ],
   "source": [
    "def classify_review(text, model, vectorizer, preprocessor):\n",
    "    \"\"\"\n",
    "    Classify a single review text using the given model and vectorizer.\n",
    "\n",
    "    Args:\n",
    "        text (str): Raw review text.\n",
    "        model: Trained sklearn classifier with predict and predict_proba.\n",
    "        vectorizer: Fitted TfidfVectorizer.\n",
    "        preprocessor: Function or callable to preprocess raw text.\n",
    "\n",
    "    Returns:\n",
    "        dict: {\n",
    "            'label': predicted class label,\n",
    "            'probabilities': dict of class labels with their predicted probabilities\n",
    "        }\n",
    "    \"\"\"\n",
    "    # Preprocess input text\n",
    "    cleaned_text = preprocessor(text)\n",
    "\n",
    "    # Vectorize\n",
    "    text_vec = vectorizer.transform([cleaned_text])\n",
    "\n",
    "    # Predict label\n",
    "    label = model.predict(text_vec)[0]\n",
    "\n",
    "    # Predict probabilities\n",
    "    probs = model.predict_proba(text_vec)[0]\n",
    "\n",
    "    # Map classes to probabilities\n",
    "    class_prob_dict = {cls: prob for cls, prob in zip(model.classes_, probs)}\n",
    "\n",
    "    return {\n",
    "        'label': label,\n",
    "        'probabilities': class_prob_dict\n",
    "    }\n",
    "\n",
    "# Example preprocess function (replace with your actual preprocessor)\n",
    "def preprocess_text(text):\n",
    "    # Lowercase and remove non-alphabetic characters\n",
    "    text = re.sub(r'[^a-zA-Z\\s]', '', text.lower())\n",
    "    \n",
    "    # Tokenize\n",
    "    words = word_tokenize(text)\n",
    "    \n",
    "    # Remove stopwords and lemmatize\n",
    "    cleaned = [lemmatizer.lemmatize(word) for word in words if word not in stop_words]\n",
    "    \n",
    "    return ' '.join(cleaned)\n",
    "#     # Example: lowercasing only; add your full cleaning here\n",
    "#     return text.lower()\n",
    "\n",
    "# Usage example\n",
    "new_review = \"The course was well structured and amazing\"\n",
    "result = classify_review(new_review, nb_model, vectorizer, preprocess_text)\n",
    "\n",
    "print(\"Predicted Label:\", result['label'])\n",
    "print(\"Class Probabilities:\", result['probabilities'])\n"
   ]
  },
  {
   "cell_type": "code",
   "execution_count": null,
   "id": "d0dda807",
   "metadata": {},
   "outputs": [],
   "source": []
  }
 ],
 "metadata": {
  "kernelspec": {
   "display_name": "Python 3 (ipykernel)",
   "language": "python",
   "name": "python3"
  },
  "language_info": {
   "codemirror_mode": {
    "name": "ipython",
    "version": 3
   },
   "file_extension": ".py",
   "mimetype": "text/x-python",
   "name": "python",
   "nbconvert_exporter": "python",
   "pygments_lexer": "ipython3",
   "version": "3.9.13"
  }
 },
 "nbformat": 4,
 "nbformat_minor": 5
}
